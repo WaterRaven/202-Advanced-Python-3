{
 "cells": [
  {
   "cell_type": "code",
   "execution_count": 2,
   "id": "1da05ab0",
   "metadata": {},
   "outputs": [],
   "source": [
    "import sympy as sp\n",
    "import string"
   ]
  },
  {
   "cell_type": "code",
   "execution_count": 10,
   "id": "070882c7",
   "metadata": {},
   "outputs": [],
   "source": [
    "ascii_greek = ['Α', 'α',\n",
    "               'Β', 'β',\n",
    "               'Γ', 'γ',\n",
    "               'Δ', 'δ',\n",
    "               'Ε', 'ε',\n",
    "               'Ζ', 'ζ',\n",
    "               'Η', 'η',\n",
    "               'Θ', 'θ',\n",
    "               'Ι', 'ι',\n",
    "               'Κ', 'κ',\n",
    "               'Λ', 'λ',\n",
    "               'Μ', 'μ',\n",
    "               'Ν', 'ν',\n",
    "               'Ξ', 'ξ',\n",
    "               'Ο', 'ο',\n",
    "               'Π', 'π',\n",
    "               'Ρ', 'ρ',\n",
    "               'Σ', 'σ',\n",
    "               'Τ', 'τ',\n",
    "               'Υ', 'υ',\n",
    "               'Φ', 'φ',\n",
    "               'Χ', 'χ',\n",
    "               'Ψ', 'ψ',\n",
    "               'Ω', 'ω']\n",
    "latex_greek = ['\\\\Alpha', '\\\\alpha',\n",
    "               '\\\\Beta', '\\\\beta',\n",
    "               '\\\\Gamma', '\\\\gamma',\n",
    "               '\\\\Delta', '\\\\delta',\n",
    "               '\\\\Epsilon', '\\\\epsilon',\n",
    "               '\\\\Zeta', '\\\\zeta',\n",
    "               '\\\\Eta', '\\\\eta',\n",
    "               '\\\\Theta', '\\\\theta',\n",
    "               '\\\\Iota', '\\\\iota',\n",
    "               '\\\\Kappa', '\\\\kappa',\n",
    "               '\\\\Lambda', '\\\\lambda',\n",
    "               '\\\\Mu', '\\\\mu',\n",
    "               '\\\\Nu', '\\\\nu',\n",
    "               '\\\\Xi', '\\\\xi',\n",
    "               '\\\\Omicron', '\\\\omicron',\n",
    "               '\\\\Pi', '\\\\pi',\n",
    "               '\\\\Rho', '\\\\rho',\n",
    "               '\\\\Sigma', '\\\\sigma',\n",
    "               '\\\\Tau', '\\\\tau',\n",
    "               '\\\\Upsilon', '\\\\upsilon',\n",
    "               '\\\\Phi', '\\\\phi',\n",
    "               '\\\\Chi', '\\\\chi',\n",
    "               '\\\\Psi', '\\\\psi',\n",
    "               '\\\\Omega', '\\\\omega']\n",
    "symbols = string.ascii_letters + ''.join(ascii_greek)"
   ]
  },
  {
   "cell_type": "code",
   "execution_count": 12,
   "id": "c1d7d312",
   "metadata": {},
   "outputs": [],
   "source": [
    "def transform_greek(s: str):\n",
    "    greek_transform = dict(zip(latex_greek, ascii_greek))\n",
    "    for letter in latex_greek:\n",
    "        while letter in s:\n",
    "            s = s.replace(letter, greek_transform[letter])\n",
    "    return s\n",
    "\n",
    "def transform_multiplication(s: str):\n",
    "    length = len(s)\n",
    "    i = 1\n",
    "    while(i < length):\n",
    "        if (s[i] in symbols and s[i - 1] in (symbols + '1234567890')):\n",
    "            s = s[:i] + '*' + s[i:]\n",
    "            length += 1\n",
    "        i += 1"
   ]
  },
  {
   "cell_type": "code",
   "execution_count": null,
   "id": "8f9d5d27",
   "metadata": {},
   "outputs": [],
   "source": []
  }
 ],
 "metadata": {
  "kernelspec": {
   "display_name": "Python 3",
   "language": "python",
   "name": "python3"
  },
  "language_info": {
   "codemirror_mode": {
    "name": "ipython",
    "version": 3
   },
   "file_extension": ".py",
   "mimetype": "text/x-python",
   "name": "python",
   "nbconvert_exporter": "python",
   "pygments_lexer": "ipython3",
   "version": "3.8.8"
  }
 },
 "nbformat": 4,
 "nbformat_minor": 5
}
